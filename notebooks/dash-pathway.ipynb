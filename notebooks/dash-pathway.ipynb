{
 "cells": [
  {
   "cell_type": "code",
   "execution_count": 1,
   "metadata": {},
   "outputs": [],
   "source": [
    "import dash_pathway"
   ]
  },
  {
   "cell_type": "code",
   "execution_count": 2,
   "metadata": {},
   "outputs": [],
   "source": [
    "from jupyter_dash import JupyterDash"
   ]
  },
  {
   "cell_type": "code",
   "execution_count": 3,
   "metadata": {},
   "outputs": [],
   "source": [
    "import dash\n",
    "import dash_core_components as dcc\n",
    "import dash_html_components as html"
   ]
  },
  {
   "cell_type": "code",
   "execution_count": 4,
   "metadata": {},
   "outputs": [],
   "source": [
    "#JupyterDash.infer_jupyter_proxy_config()"
   ]
  },
  {
   "cell_type": "code",
   "execution_count": 4,
   "metadata": {},
   "outputs": [],
   "source": [
    "external_stylesheets = ['https://codepen.io/chriddyp/pen/bWLwgP.css']\n",
    "\n",
    "app = JupyterDash(__name__, external_stylesheets=external_stylesheets)\n",
    "\n",
    "# Create server variable with Flask server object for use with gunicorn\n",
    "server = app.server\n",
    "\n",
    "app.layout = html.Div(dash_pathway.Pathway(pathwayid=\"eco00020\", width=1200, height=1200,\n",
    "                                           id='eco00020', node_style={\"font-size\":14}, edge_style={\"width\":10.0}))"
   ]
  },
  {
   "cell_type": "code",
   "execution_count": 5,
   "metadata": {},
   "outputs": [
    {
     "name": "stdout",
     "output_type": "stream",
     "text": [
      "Dash app running on http://127.0.0.1:8050/\n"
     ]
    }
   ],
   "source": [
    "app.run_server()"
   ]
  },
  {
   "cell_type": "code",
   "execution_count": 8,
   "metadata": {},
   "outputs": [
    {
     "name": "stdout",
     "output_type": "stream",
     "text": [
      "b4f0f G6P\n",
      " KEGG Compound C00668\n",
      "KEGG Compoundis not in SYSTEM_CODE\n",
      "a49d0 F6P KEGG Compound C05345\n",
      "KEGG Compoundis not in SYSTEM_CODE\n",
      "b7f19 FBP KEGG Compound C05378\n",
      "KEGG Compoundis not in SYSTEM_CODE\n",
      "da32d PEP KEGG Compound C00074\n",
      "KEGG Compoundis not in SYSTEM_CODE\n",
      "d2118 PYR KEGG Compound C00022\n",
      "KEGG Compoundis not in SYSTEM_CODE\n",
      "d8775 OAA KEGG Compound C00036\n",
      "KEGG Compoundis not in SYSTEM_CODE\n",
      "e65e8 6PG KEGG Compound C00345\n",
      "KEGG Compoundis not in SYSTEM_CODE\n",
      "ac58b MAL KEGG Compound C00149\n",
      "KEGG Compoundis not in SYSTEM_CODE\n",
      "c2eb6 FUM KEGG Compound C00122\n",
      "KEGG Compoundis not in SYSTEM_CODE\n",
      "cfecd SUC KEGG Compound C00042\n",
      "KEGG Compoundis not in SYSTEM_CODE\n",
      "a7c14 SUC-CoA KEGG Compound C00091\n",
      "KEGG Compoundis not in SYSTEM_CODE\n",
      "c053f 2-OG KEGG Compound C00026\n",
      "KEGG Compoundis not in SYSTEM_CODE\n",
      "d8391 ICT KEGG Compound C00311\n",
      "KEGG Compoundis not in SYSTEM_CODE\n",
      "db855 CIT KEGG Compound C00158\n",
      "KEGG Compoundis not in SYSTEM_CODE\n",
      "c4c92 Ace-CoA KEGG Compound C00024\n",
      "KEGG Compoundis not in SYSTEM_CODE\n",
      "baf08 T3P KEGG Compound C00197\n",
      "KEGG Compoundis not in SYSTEM_CODE\n",
      "dccce Ace KEGG Compound C00033\n",
      "KEGG Compoundis not in SYSTEM_CODE\n",
      "c1727 Glucose KEGG Compound C00221\n",
      "KEGG Compoundis not in SYSTEM_CODE\n",
      "fa1d2 P5P  \n",
      "is not in SYSTEM_CODE\n",
      "d3e3c GOX  \n",
      "is not in SYSTEM_CODE\n",
      "fb81d Galactose KEGG Compound C00124\n",
      "KEGG Compoundis not in SYSTEM_CODE\n"
     ]
    }
   ],
   "source": [
    "external_stylesheets = ['https://codepen.io/chriddyp/pen/bWLwgP.css']\n",
    "\n",
    "app = JupyterDash(__name__, external_stylesheets=external_stylesheets)\n",
    "\n",
    "# Create server variable with Flask server object for use with gunicorn\n",
    "server = app.server\n",
    "\n",
    "app.layout = html.Div(dash_pathway.Pathway(pathwayid=\"WP3583\", width=1200, height=1200,\n",
    "                                           id='eco00020', node_style={\"font-size\":14}, edge_style={\"width\":10.0}))"
   ]
  },
  {
   "cell_type": "code",
   "execution_count": 9,
   "metadata": {},
   "outputs": [
    {
     "name": "stdout",
     "output_type": "stream",
     "text": [
      "Dash app running on http://127.0.0.1:8050/\n"
     ]
    }
   ],
   "source": [
    "app.run_server()"
   ]
  },
  {
   "cell_type": "code",
   "execution_count": 6,
   "metadata": {},
   "outputs": [],
   "source": [
    "external_stylesheets = ['https://codepen.io/chriddyp/pen/bWLwgP.css']\n",
    "\n",
    "app = JupyterDash(__name__, external_stylesheets=external_stylesheets)\n",
    "\n",
    "# Create server variable with Flask server object for use with gunicorn\n",
    "server = app.server\n",
    "\n",
    "app.layout = html.Div(dash_pathway.Pathway(pathwayid=\"https://github.com/escher/global-map/raw/master/src/data/iJO1366.Central%20metabolism.json\",\n",
    "                                           width=1200, height=1200, id='eco00020', node_style={\"font-size\":14}, edge_style={\"width\":10.0}))"
   ]
  },
  {
   "cell_type": "code",
   "execution_count": 7,
   "metadata": {},
   "outputs": [
    {
     "name": "stdout",
     "output_type": "stream",
     "text": [
      "Dash app running on http://127.0.0.1:8050/\n"
     ]
    }
   ],
   "source": [
    "app.run_server()"
   ]
  },
  {
   "cell_type": "code",
   "execution_count": 10,
   "metadata": {},
   "outputs": [],
   "source": [
    "from jupyter_dash import JupyterDash\n",
    "import pandas as pd\n",
    "import dash\n",
    "import dash_core_components as dcc\n",
    "import dash_html_components as html\n",
    "import dash_pathway\n",
    "\n",
    "df=pd.read_csv(\"../data/kegg_compound_timeseries.csv\")\n",
    "df=df.rename(columns={\"Unnamed: 0\": \"keggid\"})\n",
    "\n",
    "external_stylesheets = ['https://codepen.io/chriddyp/pen/bWLwgP.css']\n",
    "app = JupyterDash(__name__, external_stylesheets=external_stylesheets)\n",
    "server = app.server\n",
    "\n",
    "app.layout = html.Div(id='pathway-body', children=[\n",
    "    dash_pathway.Pathway(pathwayid=\"eco01100\", width=1920, height=1080, id='global-metabolism'),\n",
    "    dcc.Slider(\n",
    "        id='my-slider',\n",
    "        min=0,\n",
    "        max=15200,\n",
    "        step=100,\n",
    "        value=100,\n",
    "    ),\n",
    "    html.Div(id='slider-output-container')\n",
    "])\n",
    "\n",
    "@app.callback(dash.dependencies.Output('global-metabolism', 'elements'),\n",
    "              [dash.dependencies.Input('my-slider', 'value')],\n",
    "              [dash.dependencies.State('global-metabolism', 'elements')])\n",
    "def update_elements(value, elements):\n",
    "    for idx, val in enumerate(elements):\n",
    "        if 'label' in val['data']: \n",
    "            node_label = val['data']['label']\n",
    "            quantity = df[df['keggid']==node_label][str(value)]\n",
    "            if len(quantity):\n",
    "                elements[idx]['data']['width'] = str(quantity.values[0] * 0.1)\n",
    "                elements[idx]['data']['height'] = str(quantity.values[0] * 0.1)\n",
    "    return elements\n",
    "\n",
    "@app.callback(\n",
    "    dash.dependencies.Output('slider-output-container', 'children'),\n",
    "    [dash.dependencies.Input('my-slider', 'value')])\n",
    "def update_output(value):\n",
    "    return 'You have selected time \"{}\"'.format(value)\n"
   ]
  },
  {
   "cell_type": "code",
   "execution_count": 11,
   "metadata": {},
   "outputs": [
    {
     "name": "stdout",
     "output_type": "stream",
     "text": [
      "Dash app running on http://127.0.0.1:8050/\n"
     ]
    }
   ],
   "source": [
    "app.run_server()"
   ]
  }
 ],
 "metadata": {
  "kernelspec": {
   "display_name": "Python 3",
   "language": "python",
   "name": "python3"
  },
  "language_info": {
   "codemirror_mode": {
    "name": "ipython",
    "version": 3
   },
   "file_extension": ".py",
   "mimetype": "text/x-python",
   "name": "python",
   "nbconvert_exporter": "python",
   "pygments_lexer": "ipython3",
   "version": "3.8.3"
  }
 },
 "nbformat": 4,
 "nbformat_minor": 4
}
