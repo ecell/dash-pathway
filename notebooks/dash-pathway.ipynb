{
 "cells": [
  {
   "cell_type": "code",
   "execution_count": 1,
   "metadata": {},
   "outputs": [],
   "source": [
    "import dash_pathway"
   ]
  },
  {
   "cell_type": "code",
   "execution_count": 2,
   "metadata": {},
   "outputs": [],
   "source": [
    "from jupyter_dash import JupyterDash"
   ]
  },
  {
   "cell_type": "code",
   "execution_count": 3,
   "metadata": {},
   "outputs": [],
   "source": [
    "import dash\n",
    "import dash_core_components as dcc\n",
    "import dash_html_components as html"
   ]
  },
  {
   "cell_type": "code",
   "execution_count": 4,
   "metadata": {},
   "outputs": [],
   "source": [
    "#JupyterDash.infer_jupyter_proxy_config()"
   ]
  },
  {
   "cell_type": "code",
   "execution_count": 4,
   "metadata": {},
   "outputs": [],
   "source": [
    "external_stylesheets = ['https://codepen.io/chriddyp/pen/bWLwgP.css']\n",
    "\n",
    "app = JupyterDash(__name__, external_stylesheets=external_stylesheets)\n",
    "\n",
    "# Create server variable with Flask server object for use with gunicorn\n",
    "server = app.server\n",
    "\n",
    "\n",
    "app.layout = html.Div(dash_pathway.Pathway(pathwayid=\"eco00020\", width=1200, height=1200,\n",
    "                                           id='eco00020', node_style={\"font-size\":14}, edge_style={\"width\":10.0}))"
   ]
  },
  {
   "cell_type": "code",
   "execution_count": 5,
   "metadata": {},
   "outputs": [
    {
     "name": "stdout",
     "output_type": "stream",
     "text": [
      "Dash app running on http://127.0.0.1:8050/\n"
     ]
    }
   ],
   "source": [
    "app.run_server()"
   ]
  },
  {
   "cell_type": "code",
   "execution_count": 8,
   "metadata": {},
   "outputs": [],
   "source": [
    "from jupyter_dash import JupyterDash\n",
    "import pandas as pd\n",
    "import dash\n",
    "import dash_core_components as dcc\n",
    "import dash_html_components as html\n",
    "import dash_pathway\n",
    "\n",
    "df=pd.read_csv(\"../data/kegg_compound_timeseries.csv\")\n",
    "df=df.rename(columns={\"Unnamed: 0\": \"keggid\"})\n",
    "\n",
    "external_stylesheets = ['https://codepen.io/chriddyp/pen/bWLwgP.css']\n",
    "app = JupyterDash(__name__, external_stylesheets=external_stylesheets)\n",
    "server = app.server\n",
    "\n",
    "app.layout = html.Div(id='pathway-body', children=[\n",
    "    dash_pathway.Pathway(pathwayid=\"eco01100\", width=1920, height=1080, id='global-metabolism'),\n",
    "    dcc.Slider(\n",
    "        id='my-slider',\n",
    "        min=0,\n",
    "        max=15200,\n",
    "        step=100,\n",
    "        value=100,\n",
    "    ),\n",
    "    html.Div(id='slider-output-container')\n",
    "])\n",
    "\n",
    "@app.callback(dash.dependencies.Output('global-metabolism', 'elements'),\n",
    "              [dash.dependencies.Input('my-slider', 'value')],\n",
    "              [dash.dependencies.State('global-metabolism', 'elements')])\n",
    "def update_elements(value, elements):\n",
    "    for idx, val in enumerate(elements):\n",
    "        if 'label' in val['data']: \n",
    "            node_label = val['data']['label']\n",
    "            quantity = df[df['keggid']==node_label][str(value)]\n",
    "            if len(quantity):\n",
    "                elements[idx]['data']['width'] = str(quantity.values[0] * 0.1)\n",
    "                elements[idx]['data']['height'] = str(quantity.values[0] * 0.1)\n",
    "    return elements\n",
    "\n",
    "@app.callback(\n",
    "    dash.dependencies.Output('slider-output-container', 'children'),\n",
    "    [dash.dependencies.Input('my-slider', 'value')])\n",
    "def update_output(value):\n",
    "    return 'You have selected time \"{}\"'.format(value)\n"
   ]
  },
  {
   "cell_type": "code",
   "execution_count": 9,
   "metadata": {},
   "outputs": [
    {
     "name": "stdout",
     "output_type": "stream",
     "text": [
      "Dash app running on http://127.0.0.1:8050/\n"
     ]
    }
   ],
   "source": [
    "app.run_server()"
   ]
  },
  {
   "cell_type": "code",
   "execution_count": null,
   "metadata": {},
   "outputs": [],
   "source": []
  }
 ],
 "metadata": {
  "kernelspec": {
   "display_name": "Python 3",
   "language": "python",
   "name": "python3"
  },
  "language_info": {
   "codemirror_mode": {
    "name": "ipython",
    "version": 3
   },
   "file_extension": ".py",
   "mimetype": "text/x-python",
   "name": "python",
   "nbconvert_exporter": "python",
   "pygments_lexer": "ipython3",
   "version": "3.8.3"
  }
 },
 "nbformat": 4,
 "nbformat_minor": 4
}
